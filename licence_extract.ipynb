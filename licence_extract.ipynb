{
 "cells": [
  {
   "cell_type": "code",
   "execution_count": 1,
   "id": "6ccf997d-9fe4-4add-8af1-8dc2dafa3d78",
   "metadata": {},
   "outputs": [],
   "source": [
    "import os\n",
    "import pytesseract\n",
    "import re\n",
    "import pandas as pd"
   ]
  },
  {
   "cell_type": "code",
   "execution_count": 56,
   "id": "0d883959-a679-491e-a2a3-33c9574fc791",
   "metadata": {},
   "outputs": [
    {
     "name": "stdout",
     "output_type": "stream",
     "text": [
      "THE UNION OF INDIA\n",
      "MAHARASHTRA STATE MOTOR DRIVING LICENCE\n",
      "DL No: MHO3 20080022135\n",
      "Valid Till : 23-01-2027 (NT)\n",
      "DOI : 24-01-2007\n",
      "09-03-2011 FORM 7\n",
      "AED 15-03-2008 RULE 16 (2)\n",
      "AUTHORISATION TO DRIVE FOLLOWING CLASS\n",
      "OF VEHICLES THROUGHOUT INDIA\n",
      "COV DO!\n",
      "MCWG 24-01-2007\n",
      "LMV 24-01-2007\n",
      "TRANS 10-03-2008\n",
      "Name -BABUKHAN 108: 01-12-1987 BG:\n",
      "S/D/W Of : JABBAR KHAN\n",
      "Add : KAMALA RAMAN NAGAR, BAIGANWADI,\n",
      "GOVANDI, MUMBAI, PIN : 400043\n",
      "Za\n",
      "Signature & ID of /ar—\n",
      "Issuing Authority: MHO3 2008261 a preselen Thumb\n",
      "\n",
      "None\n",
      "********************\n",
      "['THE UNION OF INDIA', 'MAHARASHTRA STATE MOTOR DRIVING LICENCE', 'DL No: MHO3 20080022135', 'Valid Till : 23-01-2027 (NT)', 'DOI : 24-01-2007', '09-03-2011 FORM 7', 'AED 15-03-2008 RULE 16 (2)', 'AUTHORISATION TO DRIVE FOLLOWING CLASS', 'OF VEHICLES THROUGHOUT INDIA', 'COV DO!', 'MCWG 24-01-2007', 'LMV 24-01-2007', 'TRANS 10-03-2008', 'Name -BABUKHAN 108: 01-12-1987 BG:', 'S/D/W Of : JABBAR KHAN', 'Add : KAMALA RAMAN NAGAR, BAIGANWADI,', 'GOVANDI, MUMBAI, PIN : 400043', 'Za', 'Signature & ID of /ar—', 'Issuing Authority: MHO3 2008261 a preselen Thumb', '']\n",
      "DL No: MHO3 20080022135\n",
      "{'datebirth': [' '], 'Name': ['Name -BABUKHAN 108: 01-12-1987 BG:'], 'number': ['DL No: MHO3 20080022135']}\n"
     ]
    }
   ],
   "source": [
    "pytesseract.pytesseract.tesseract_cmd = r\"C:\\Program Files\\Tesseract-OCR\\tesseract.exe\"\n",
    "\n",
    "folder_path=r'C:\\Users\\D\\lic1.png'\n",
    "\n",
    "text1=pytesseract.image_to_string(folder_path)\n",
    "#print(text1)\n",
    "text=re.sub('\\n+','\\n',text1)\n",
    "print(text)\n",
    "    \n",
    "    \n",
    "    \n",
    "def licence(text):\n",
    "    DOB_list=[]\n",
    "    num_list=[]\n",
    "    name_list=[]\n",
    "    DOB=re.search(r'\\b[0-9]{2}[/][0-9]{2}[]/[0-9]{4}\\b',text)\n",
    "    print(DOB)\n",
    "    print('*'*20)\n",
    "    if DOB:\n",
    "        DOB_list.append(DOB)\n",
    "    else:\n",
    "        DOB_list.append(' ')\n",
    "        \n",
    "    text_list=text.split('\\n')\n",
    "    print(text_list)\n",
    "        \n",
    "    for i,line in enumerate(text_list):\n",
    "        if re.search('LICENCE',line):\n",
    "            lnum=text_list[i+1]\n",
    "            print(lnum)\n",
    "                \n",
    "        if re.search('Name',line):\n",
    "            name=text_list[i]\n",
    "            \n",
    "    if name:\n",
    "        name_list.append(name)\n",
    "    else:\n",
    "        name_list.append(' ')\n",
    "            \n",
    "    if lnum:\n",
    "        num_list.append(lnum)\n",
    "    else:\n",
    "        num_list.append(' ')\n",
    "            \n",
    "    data={'datebirth':DOB_list,\n",
    "            'Name':name_list,\n",
    "            'number':num_list}\n",
    "    return data\n",
    "    \n",
    "Required=licence(text)\n",
    "print(Required)"
   ]
  },
  {
   "cell_type": "code",
   "execution_count": 57,
   "id": "738a39f8-5b3e-486f-9219-e567b028054c",
   "metadata": {},
   "outputs": [
    {
     "name": "stdout",
     "output_type": "stream",
     "text": [
      "                                            0\n",
      "datebirth                                    \n",
      "Name       Name -BABUKHAN 108: 01-12-1987 BG:\n",
      "number                DL No: MHO3 20080022135\n"
     ]
    }
   ],
   "source": [
    "df=pd.DataFrame(Required).T\n",
    "print(df)"
   ]
  },
  {
   "cell_type": "code",
   "execution_count": 29,
   "id": "224b4711-18f6-4acc-a475-1bdfd17fee9f",
   "metadata": {},
   "outputs": [],
   "source": [
    "df.to_csv('table.csv')"
   ]
  },
  {
   "cell_type": "code",
   "execution_count": null,
   "id": "af435452-907d-482c-aa42-6d3f6fbee272",
   "metadata": {},
   "outputs": [],
   "source": []
  }
 ],
 "metadata": {
  "kernelspec": {
   "display_name": "Python 3 (ipykernel)",
   "language": "python",
   "name": "python3"
  },
  "language_info": {
   "codemirror_mode": {
    "name": "ipython",
    "version": 3
   },
   "file_extension": ".py",
   "mimetype": "text/x-python",
   "name": "python",
   "nbconvert_exporter": "python",
   "pygments_lexer": "ipython3",
   "version": "3.11.5"
  }
 },
 "nbformat": 4,
 "nbformat_minor": 5
}
